{
 "cells": [
  {
   "cell_type": "markdown",
   "metadata": {},
   "source": [
    "# Blog Gender feature filtering and classification"
   ]
  },
  {
   "cell_type": "markdown",
   "metadata": {},
   "source": [
    "## Importing Data from csv "
   ]
  },
  {
   "cell_type": "code",
   "execution_count": 77,
   "metadata": {},
   "outputs": [],
   "source": [
    "import pandas as pd\n",
    "\n",
    "data = pd.read_csv('Data\\Gender_Blog.csv')  "
   ]
  },
  {
   "cell_type": "code",
   "execution_count": 78,
   "metadata": {},
   "outputs": [
    {
     "data": {
      "text/plain": [
       "(19320, 3)"
      ]
     },
     "execution_count": 78,
     "metadata": {},
     "output_type": "execute_result"
    }
   ],
   "source": [
    "data.shape\n"
   ]
  },
  {
   "cell_type": "markdown",
   "metadata": {},
   "source": [
    "##  Labelling comlumns and dropping data due to limited resources"
   ]
  },
  {
   "cell_type": "code",
   "execution_count": 79,
   "metadata": {},
   "outputs": [],
   "source": [
    "data.head\n",
    "#Now we can name our own columns\n",
    "data.columns = ['ID', 'Gender', 'Blog']\n",
    "\n",
    "data.drop(data.tail(16320).index,inplace=True) \n"
   ]
  },
  {
   "cell_type": "code",
   "execution_count": 80,
   "metadata": {},
   "outputs": [
    {
     "data": {
      "text/plain": [
       "<bound method NDFrame.head of         ID  Gender                                               Blog\n",
       "0        0    male  ['\\r\\n\\r\\n     \\r\\n       Well this is my firs...\n",
       "1        1  female  [\"\\r\\n\\r\\n\\t \\r\\n          Yes  !     Finally,...\n",
       "2        2    male  ['\\r\\n\\r\\n    \\r\\n       Yes my overworked bod...\n",
       "3        3    male  [\"\\r\\n\\r\\n     \\r\\n      tennis has always bee...\n",
       "4        4  female  [\"\\r\\n\\r\\n\\t \\r\\n      hello. How are you? I'm...\n",
       "...    ...     ...                                                ...\n",
       "2995  2995  female  ['\\r\\n\\r\\n\\t \\r\\n      I saw Jeff again Sunday...\n",
       "2996  2996    male  ['\\r\\n\\r\\r\\n\\r\\r\\n           \\r\\r\\n       Clea...\n",
       "2997  2997  female  [\"\\r\\n\\r\\n\\t \\r\\n      Well, so you lot have s...\n",
       "2998  2998    male  [\"\\r\\n\\r\\n\\r\\n       \\r\\n      Hello everyone....\n",
       "2999  2999  female  ['\\r\\n\\r\\n\\t \\r\\n      Hello.  I have to keep ...\n",
       "\n",
       "[3000 rows x 3 columns]>"
      ]
     },
     "execution_count": 80,
     "metadata": {},
     "output_type": "execute_result"
    }
   ],
   "source": [
    "data.head"
   ]
  },
  {
   "cell_type": "markdown",
   "metadata": {},
   "source": [
    "## Adding Blog length data"
   ]
  },
  {
   "cell_type": "code",
   "execution_count": 81,
   "metadata": {},
   "outputs": [],
   "source": [
    "data.head\n",
    "data['blog_length']  = data['Blog'].str.len()\n",
    "\n",
    "#df[\"blog_length\"].mean()\n",
    "male = data[data['Gender']== 'male'] \n",
    "female = data[data['Gender']== 'female'] \n"
   ]
  },
  {
   "cell_type": "code",
   "execution_count": 82,
   "metadata": {},
   "outputs": [
    {
     "data": {
      "text/plain": [
       "<bound method NDFrame.head of         ID  Gender                                               Blog  \\\n",
       "1        1  female  [\"\\r\\n\\r\\n\\t \\r\\n          Yes  !     Finally,...   \n",
       "4        4  female  [\"\\r\\n\\r\\n\\t \\r\\n      hello. How are you? I'm...   \n",
       "8        8  female  ['\\r\\n\\r\\n\\t\\t\\t\\t\\t\\t\\r\\n\\t\\t\\t\\t\\t\\t    I\\'v...   \n",
       "9        9  female  ['\\r\\n\\r\\n\\t \\r\\n      How can you drop a raw ...   \n",
       "12      12  female  ['\\r\\n\\r\\n    \\r\\n       \\r\\n      hey ya\\'ll!...   \n",
       "...    ...     ...                                                ...   \n",
       "2992  2992  female  ['\\r\\n\\r\\n\\t \\r\\n      Well, been working from...   \n",
       "2993  2993  female  [\"\\r\\n\\r\\n\\r\\n       \\r\\n      Today, it hasn'...   \n",
       "2995  2995  female  ['\\r\\n\\r\\n\\t \\r\\n      I saw Jeff again Sunday...   \n",
       "2997  2997  female  [\"\\r\\n\\r\\n\\t \\r\\n      Well, so you lot have s...   \n",
       "2999  2999  female  ['\\r\\n\\r\\n\\t \\r\\n      Hello.  I have to keep ...   \n",
       "\n",
       "      blog_length  \n",
       "1            4574  \n",
       "4           16902  \n",
       "8           10040  \n",
       "9           53733  \n",
       "12         101004  \n",
       "...           ...  \n",
       "2992         5577  \n",
       "2993       203287  \n",
       "2995         9800  \n",
       "2997        29657  \n",
       "2999        84286  \n",
       "\n",
       "[1471 rows x 4 columns]>"
      ]
     },
     "execution_count": 82,
     "metadata": {},
     "output_type": "execute_result"
    }
   ],
   "source": [
    "male.head\n",
    "female.head\n"
   ]
  },
  {
   "cell_type": "code",
   "execution_count": 83,
   "metadata": {},
   "outputs": [
    {
     "data": {
      "image/png": "[encoded data removed]",
      "text/plain": [
       "<Figure size 432x288 with 1 Axes>"
      ]
     },
     "metadata": {
      "needs_background": "light"
     },
     "output_type": "display_data"
    },
    {
     "name": "stdout",
     "output_type": "stream",
     "text": [
      "[42002.22171353826, 40258.983684568324]\n"
     ]
    }
   ],
   "source": [
    "objects = ('male', 'female')\n",
    "y_pos = np.arange(len(objects))\n",
    "performance = [male[\"blog_length\"].mean(), female[\"blog_length\"].mean()]\n",
    "\n",
    "plt.bar(y_pos, performance, align='center', alpha=0.5)\n",
    "plt.xticks(y_pos, objects)\n",
    "plt.ylabel('Genders')\n",
    "plt.title('Blog length by gender ')\n",
    "\n",
    "plt.show()\n",
    "\n",
    "print(performance)"
   ]
  },
  {
   "cell_type": "markdown",
   "metadata": {},
   "source": [
    "## Computing readabilty"
   ]
  },
  {
   "cell_type": "code",
   "execution_count": 100,
   "metadata": {},
   "outputs": [
    {
     "name": "stdout",
     "output_type": "stream",
     "text": [
      "55.95250000000002\n"
     ]
    },
    {
     "data": {
      "image/png": "[encoded data removed]",
      "text/plain": [
       "<Figure size 432x288 with 1 Axes>"
      ]
     },
     "metadata": {
      "needs_background": "light"
     },
     "output_type": "display_data"
    },
    {
     "name": "stdout",
     "output_type": "stream",
     "text": [
      "-7942.447807842614 -7822.986412130421\n"
     ]
    }
   ],
   "source": [
    "import readability\n",
    "text = ('This is an example sentence .\\n'\n",
    "   'Note that tokens are separated by spaces and sentences by newlines .\\n')\n",
    "results = readability.getmeasures(text, lang='en')\n",
    "print(results['readability grades']['FleschReadingEase'])\n",
    "\n",
    "readablitlyMale = readability.getmeasures(male[\"Blog\"], lang='en')\n",
    "readablitlyFemale = readability.getmeasures(female[\"Blog\"], lang='en')\n",
    "\n",
    "\n",
    "\n",
    "objects = ('male', 'female')\n",
    "y_pos = np.arange(len(objects))\n",
    "performance = readablitlyMale['readability grades']['FleschReadingEase'],readablitlyFemale['readability grades']['FleschReadingEase']\n",
    "\n",
    "plt.bar(y_pos, performance, align='center', alpha=0.5)\n",
    "plt.xticks(y_pos, objects)\n",
    "plt.ylabel('Readablilty')\n",
    "plt.title('Blog readablity by gender ')\n",
    "\n",
    "plt.show()\n",
    "\n",
    "print(readablitlyMale['readability grades']['FleschReadingEase'],readablitlyFemale['readability grades']['FleschReadingEase'])"
   ]
  },
  {
   "cell_type": "markdown",
   "metadata": {},
   "source": [
    "## Visualising Data"
   ]
  },
  {
   "cell_type": "code",
   "execution_count": 84,
   "metadata": {},
   "outputs": [],
   "source": [
    "import numpy as np\n",
    "#Use numpy to find unique polarity vals and count them\n",
    "unique, counts = np.unique(data['Gender'], return_counts=True) "
   ]
  },
  {
   "cell_type": "code",
   "execution_count": 85,
   "metadata": {},
   "outputs": [],
   "source": [
    "#Now create a temporary pandas frame with these values and frequencies\n",
    "Gen = pd.DataFrame({'Gender': unique, 'frequency': counts})"
   ]
  },
  {
   "cell_type": "code",
   "execution_count": 86,
   "metadata": {},
   "outputs": [
    {
     "data": {
      "text/html": [
       "<div>\n",
       "<style scoped>\n",
       "    .dataframe tbody tr th:only-of-type {\n",
       "        vertical-align: middle;\n",
       "    }\n",
       "\n",
       "    .dataframe tbody tr th {\n",
       "        vertical-align: top;\n",
       "    }\n",
       "\n",
       "    .dataframe thead th {\n",
       "        text-align: right;\n",
       "    }\n",
       "</style>\n",
       "<table border=\"1\" class=\"dataframe\">\n",
       "  <thead>\n",
       "    <tr style=\"text-align: right;\">\n",
       "      <th></th>\n",
       "      <th>Gender</th>\n",
       "      <th>frequency</th>\n",
       "    </tr>\n",
       "  </thead>\n",
       "  <tbody>\n",
       "    <tr>\n",
       "      <th>0</th>\n",
       "      <td>female</td>\n",
       "      <td>1471</td>\n",
       "    </tr>\n",
       "    <tr>\n",
       "      <th>1</th>\n",
       "      <td>male</td>\n",
       "      <td>1529</td>\n",
       "    </tr>\n",
       "  </tbody>\n",
       "</table>\n",
       "</div>"
      ],
      "text/plain": [
       "   Gender  frequency\n",
       "0  female       1471\n",
       "1    male       1529"
      ]
     },
     "execution_count": 86,
     "metadata": {},
     "output_type": "execute_result"
    }
   ],
   "source": [
    "Gen"
   ]
  },
  {
   "cell_type": "code",
   "execution_count": 87,
   "metadata": {},
   "outputs": [
    {
     "data": {
      "text/plain": [
       "<matplotlib.axes._subplots.AxesSubplot at 0x7f9017e0cd90>"
      ]
     },
     "execution_count": 87,
     "metadata": {},
     "output_type": "execute_result"
    },
    {
     "data": {
      "image/png": "[encoded data removed]",
      "text/plain": [
       "<Figure size 432x288 with 1 Axes>"
      ]
     },
     "metadata": {
      "needs_background": "light"
     },
     "output_type": "display_data"
    }
   ],
   "source": [
    "import matplotlib.pyplot as plt\n",
    "#and plot\n",
    "Gen.plot.bar(x='Gender', y='frequency', rot=0)"
   ]
  },
  {
   "cell_type": "markdown",
   "metadata": {},
   "source": [
    "## Splitting Test and train data"
   ]
  },
  {
   "cell_type": "code",
   "execution_count": 88,
   "metadata": {},
   "outputs": [],
   "source": [
    "from sklearn.model_selection import train_test_split\n",
    "#random_state param is just a random number seed\n",
    "train, test = train_test_split(data, test_size = 0.2, random_state=42)"
   ]
  },
  {
   "cell_type": "code",
   "execution_count": 89,
   "metadata": {},
   "outputs": [
    {
     "name": "stdout",
     "output_type": "stream",
     "text": [
      "Train 2400\n",
      "Test 600\n"
     ]
    }
   ],
   "source": [
    "print(\"Train\",len(train))\n",
    "print(\"Test\",len(test))"
   ]
  },
  {
   "cell_type": "code",
   "execution_count": 90,
   "metadata": {},
   "outputs": [
    {
     "data": {
      "text/plain": [
       "<bound method NDFrame.head of         ID  Gender                                               Blog  \\\n",
       "0        0    male  ['\\r\\n\\r\\n     \\r\\n       Well this is my firs...   \n",
       "1        1  female  [\"\\r\\n\\r\\n\\t \\r\\n          Yes  !     Finally,...   \n",
       "2        2    male  ['\\r\\n\\r\\n    \\r\\n       Yes my overworked bod...   \n",
       "3        3    male  [\"\\r\\n\\r\\n     \\r\\n      tennis has always bee...   \n",
       "4        4  female  [\"\\r\\n\\r\\n\\t \\r\\n      hello. How are you? I'm...   \n",
       "...    ...     ...                                                ...   \n",
       "2995  2995  female  ['\\r\\n\\r\\n\\t \\r\\n      I saw Jeff again Sunday...   \n",
       "2996  2996    male  ['\\r\\n\\r\\r\\n\\r\\r\\n           \\r\\r\\n       Clea...   \n",
       "2997  2997  female  [\"\\r\\n\\r\\n\\t \\r\\n      Well, so you lot have s...   \n",
       "2998  2998    male  [\"\\r\\n\\r\\n\\r\\n       \\r\\n      Hello everyone....   \n",
       "2999  2999  female  ['\\r\\n\\r\\n\\t \\r\\n      Hello.  I have to keep ...   \n",
       "\n",
       "      blog_length  \n",
       "0           16671  \n",
       "1            4574  \n",
       "2            9110  \n",
       "3           11126  \n",
       "4           16902  \n",
       "...           ...  \n",
       "2995         9800  \n",
       "2996       148587  \n",
       "2997        29657  \n",
       "2998         8734  \n",
       "2999        84286  \n",
       "\n",
       "[3000 rows x 4 columns]>"
      ]
     },
     "execution_count": 90,
     "metadata": {},
     "output_type": "execute_result"
    }
   ],
   "source": [
    "data.head\n"
   ]
  },
  {
   "cell_type": "markdown",
   "metadata": {},
   "source": [
    "## Features of Trigrams and lower order n grams with NB Bernoulli classifier"
   ]
  },
  {
   "cell_type": "code",
   "execution_count": 91,
   "metadata": {},
   "outputs": [],
   "source": [
    "from sklearn.feature_extraction.text import CountVectorizer\n",
    "counterSt = CountVectorizer(ngram_range=(1, 3))\n",
    "\n",
    "ngramsFeat = counterSt.fit_transform(train['Blog'])\n",
    "\n",
    "\n",
    "from sklearn.naive_bayes import BernoulliNB\n",
    "\n",
    "#Returns a fitter (trained) classifier\n",
    "nb_classifierSt = BernoulliNB().fit(ngramsFeat, train['Gender'])\n"
   ]
  },
  {
   "cell_type": "code",
   "execution_count": 92,
   "metadata": {},
   "outputs": [
    {
     "name": "stdout",
     "output_type": "stream",
     "text": [
      "              precision    recall  f1-score   support\n",
      "\n",
      "      female       0.70      0.28      0.40       306\n",
      "        male       0.54      0.87      0.67       294\n",
      "\n",
      "    accuracy                           0.57       600\n",
      "   macro avg       0.62      0.58      0.53       600\n",
      "weighted avg       0.62      0.57      0.53       600\n",
      "\n"
     ]
    }
   ],
   "source": [
    "test_featuresSt = counterSt.transform(test['Blog'])\n",
    "\n",
    "predictionsSt = nb_classifierSt.predict(test_featuresSt)\n",
    "\n",
    "from sklearn import metrics\n",
    "print(metrics.classification_report(test['Gender'], predictionsSt))"
   ]
  },
  {
   "cell_type": "markdown",
   "metadata": {},
   "source": [
    "## Features of Trigrams only with NB Bernoulli classifier"
   ]
  },
  {
   "cell_type": "code",
   "execution_count": 93,
   "metadata": {},
   "outputs": [],
   "source": [
    "from sklearn.feature_extraction.text import CountVectorizer\n",
    "counterSt3 = CountVectorizer(ngram_range=(3, 3))\n",
    "\n",
    "ngramsFeat3 = counterSt3.fit_transform(train['Blog'])\n",
    "\n",
    "\n",
    "from sklearn.naive_bayes import BernoulliNB\n",
    "\n",
    "#Returns a fitter (trained) classifier\n",
    "nb_classifierSt3 = BernoulliNB().fit(ngramsFeat3, train['Gender'])"
   ]
  },
  {
   "cell_type": "code",
   "execution_count": 94,
   "metadata": {},
   "outputs": [
    {
     "name": "stdout",
     "output_type": "stream",
     "text": [
      "              precision    recall  f1-score   support\n",
      "\n",
      "      female       0.70      0.19      0.29       306\n",
      "        male       0.52      0.91      0.66       294\n",
      "\n",
      "    accuracy                           0.54       600\n",
      "   macro avg       0.61      0.55      0.48       600\n",
      "weighted avg       0.61      0.54      0.47       600\n",
      "\n"
     ]
    }
   ],
   "source": [
    "test_featuresSt3 = counterSt3.transform(test['Blog'])\n",
    "\n",
    "predictionsSt3 = nb_classifierSt3.predict(test_featuresSt3)\n",
    "\n",
    "from sklearn import metrics\n",
    "print(metrics.classification_report(test['Gender'], predictionsSt3))"
   ]
  },
  {
   "cell_type": "markdown",
   "metadata": {},
   "source": [
    "## Features of n grams (n=4) with NB Bernoulli classifier"
   ]
  },
  {
   "cell_type": "code",
   "execution_count": 95,
   "metadata": {},
   "outputs": [
    {
     "name": "stdout",
     "output_type": "stream",
     "text": [
      "              precision    recall  f1-score   support\n",
      "\n",
      "      female       0.65      0.04      0.08       306\n",
      "        male       0.49      0.98      0.66       294\n",
      "\n",
      "    accuracy                           0.50       600\n",
      "   macro avg       0.57      0.51      0.37       600\n",
      "weighted avg       0.57      0.50      0.36       600\n",
      "\n"
     ]
    }
   ],
   "source": [
    "from sklearn.feature_extraction.text import CountVectorizer\n",
    "counterSt4 = CountVectorizer(ngram_range=(4, 4))\n",
    "\n",
    "ngramsFeat4 = counterSt4.fit_transform(train['Blog'])\n",
    "\n",
    "\n",
    "#Returns a fitter (trained) classifier\n",
    "nb_classifierSt4 = BernoulliNB().fit(ngramsFeat4, train['Gender'])\n",
    "\n",
    "test_featuresSt4 = counterSt4.transform(test['Blog'])\n",
    "\n",
    "predictionsSt4 = nb_classifierSt4.predict(test_featuresSt4)\n",
    "\n",
    "from sklearn import metrics\n",
    "print(metrics.classification_report(test['Gender'], predictionsSt4))"
   ]
  },
  {
   "cell_type": "markdown",
   "metadata": {},
   "source": [
    "## Features of single charachter n grams with NB Bernoulli classifier"
   ]
  },
  {
   "cell_type": "code",
   "execution_count": 96,
   "metadata": {},
   "outputs": [
    {
     "name": "stdout",
     "output_type": "stream",
     "text": [
      "              precision    recall  f1-score   support\n",
      "\n",
      "      female       0.65      0.59      0.62       306\n",
      "        male       0.61      0.66      0.64       294\n",
      "\n",
      "    accuracy                           0.63       600\n",
      "   macro avg       0.63      0.63      0.63       600\n",
      "weighted avg       0.63      0.63      0.63       600\n",
      "\n"
     ]
    }
   ],
   "source": [
    "\n",
    "from sklearn.feature_extraction.text import CountVectorizer\n",
    "counterChars = CountVectorizer(ngram_range=(1, 1),analyzer='char_wb')\n",
    "\n",
    "ngramsFeatChars = counterChars.fit_transform(train['Blog'])\n",
    "\n",
    "\n",
    "#Returns a fitter (trained) classifier\n",
    "nb_classifierchars = BernoulliNB().fit(ngramsFeatChars, train['Gender'])\n",
    "\n",
    "test_featuresChars = counterChars.transform(test['Blog'])\n",
    "\n",
    "predictionsChars = nb_classifierchars.predict(test_featuresChars)\n",
    "\n",
    "from sklearn import metrics\n",
    "print(metrics.classification_report(test['Gender'], predictionsChars))"
   ]
  },
  {
   "cell_type": "markdown",
   "metadata": {},
   "source": [
    "## Features of bi and single character ngrams with NB Bernoulli classifier"
   ]
  },
  {
   "cell_type": "code",
   "execution_count": 97,
   "metadata": {},
   "outputs": [
    {
     "name": "stdout",
     "output_type": "stream",
     "text": [
      "              precision    recall  f1-score   support\n",
      "\n",
      "      female       0.69      0.57      0.62       306\n",
      "        male       0.62      0.73      0.67       294\n",
      "\n",
      "    accuracy                           0.65       600\n",
      "   macro avg       0.65      0.65      0.65       600\n",
      "weighted avg       0.65      0.65      0.65       600\n",
      "\n"
     ]
    }
   ],
   "source": [
    "\n",
    "from sklearn.feature_extraction.text import CountVectorizer\n",
    "counterChars2 = CountVectorizer(ngram_range=(1, 2),analyzer='char_wb')\n",
    "\n",
    "ngramsFeatChars2 = counterChars2.fit_transform(train['Blog'])\n",
    "\n",
    "\n",
    "#Returns a fitter (trained) classifier\n",
    "nb_classifierchars2 = BernoulliNB().fit(ngramsFeatChars2, train['Gender'])\n",
    "\n",
    "test_featuresChars2 = counterChars2.transform(test['Blog'])\n",
    "\n",
    "predictionsChars2 = nb_classifierchars2.predict(test_featuresChars2)\n",
    "\n",
    "from sklearn import metrics\n",
    "print(metrics.classification_report(test['Gender'], predictionsChars2))"
   ]
  },
  {
   "cell_type": "markdown",
   "metadata": {},
   "source": [
    "## Features unigrams (stop words removed) with NB Bernoulli classifier"
   ]
  },
  {
   "cell_type": "code",
   "execution_count": 98,
   "metadata": {},
   "outputs": [
    {
     "name": "stdout",
     "output_type": "stream",
     "text": [
      "              precision    recall  f1-score   support\n",
      "\n",
      "      female       0.69      0.60      0.65       306\n",
      "        male       0.64      0.72      0.68       294\n",
      "\n",
      "    accuracy                           0.66       600\n",
      "   macro avg       0.66      0.66      0.66       600\n",
      "weighted avg       0.67      0.66      0.66       600\n",
      "\n"
     ]
    }
   ],
   "source": [
    "\n",
    "counterUni = CountVectorizer(stop_words='english')\n",
    "\n",
    "train_features= counterUni.fit_transform(train['Blog'])\n",
    "\n",
    "\n",
    "#Returns a fitter (trained) classifier\n",
    "nb_classifierUni = BernoulliNB().fit(train_features, train['Gender'])\n",
    "\n",
    "test_features = counterUni.transform(test['Blog'])\n",
    "\n",
    "predictions = nb_classifierUni.predict(test_features)\n",
    "\n",
    "print(metrics.classification_report(test['Gender'], predictions))"
   ]
  },
  {
   "cell_type": "markdown",
   "metadata": {},
   "source": [
    "## Features of unigrams (default params )with NB Bernoulli classifier"
   ]
  },
  {
   "cell_type": "code",
   "execution_count": 99,
   "metadata": {},
   "outputs": [
    {
     "name": "stdout",
     "output_type": "stream",
     "text": [
      "              precision    recall  f1-score   support\n",
      "\n",
      "      female       0.68      0.58      0.63       306\n",
      "        male       0.62      0.72      0.67       294\n",
      "\n",
      "    accuracy                           0.65       600\n",
      "   macro avg       0.65      0.65      0.65       600\n",
      "weighted avg       0.65      0.65      0.65       600\n",
      "\n"
     ]
    }
   ],
   "source": [
    "\n",
    "counterNoS = CountVectorizer()\n",
    "\n",
    "train_featuresN= counterNoS.fit_transform(train['Blog'])\n",
    "\n",
    "\n",
    "#Returns a fitter (trained) classifier\n",
    "nb_classifierNS = BernoulliNB().fit(train_featuresN, train['Gender'])\n",
    "\n",
    "test_featuresN = counterNoS.transform(test['Blog'])\n",
    "\n",
    "predictionsN = nb_classifierNS.predict(test_featuresN)\n",
    "\n",
    "from sklearn import metrics\n",
    "print(metrics.classification_report(test['Gender'], predictionsN))"
   ]
  },
  {
   "cell_type": "code",
   "execution_count": null,
   "metadata": {},
   "outputs": [],
   "source": []
  },
  {
   "cell_type": "code",
   "execution_count": null,
   "metadata": {},
   "outputs": [],
   "source": []
  },
  {
   "cell_type": "code",
   "execution_count": null,
   "metadata": {},
   "outputs": [],
   "source": []
  }
 ],
 "metadata": {
  "kernelspec": {
   "display_name": "Python 3",
   "language": "python",
   "name": "python3"
  },
  "language_info": {
   "codemirror_mode": {
    "name": "ipython",
    "version": 3
   },
   "file_extension": ".py",
   "mimetype": "text/x-python",
   "name": "python",
   "nbconvert_exporter": "python",
   "pygments_lexer": "ipython3",
   "version": "3.7.5"
  }
 },
 "nbformat": 4,
 "nbformat_minor": 2
}
